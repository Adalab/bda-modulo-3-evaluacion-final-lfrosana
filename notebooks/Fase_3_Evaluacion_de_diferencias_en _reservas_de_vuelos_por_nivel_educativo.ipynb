{
 "cells": [
  {
   "cell_type": "code",
   "execution_count": 4,
   "metadata": {},
   "outputs": [],
   "source": [
    "# importamos las librerías que necesitamos\n",
    "\n",
    "# Tratamiento de datos\n",
    "# -----------------------------------------------------------------------\n",
    "import pandas as pd\n",
    "import numpy as np\n",
    "\n",
    "# Imputación de nulos usando métodos avanzados estadísticos\n",
    "# -----------------------------------------------------------------------\n",
    "from sklearn.impute import SimpleImputer\n",
    "from sklearn.experimental import enable_iterative_imputer\n",
    "from sklearn.impute import IterativeImputer\n",
    "from sklearn.impute import KNNImputer\n",
    "\n",
    "# Visualización\n",
    "# ------------------------------------------------------------------------------\n",
    "import matplotlib.pyplot as plt\n",
    "import seaborn as sns\n",
    "\n",
    "# Evaluar linealidad de las relaciones entre las variables\n",
    "# y la distribución de las variables\n",
    "# -------------------------------------------------------------------------------\n",
    "\n",
    "import scipy.stats as stats\n",
    "from scipy.stats import shapiro, levene\n",
    "from scipy.stats import ttest_ind\n",
    "from scipy.stats import mannwhitneyu\n",
    "from scipy.stats import chi2_contingency\n",
    "from sklearn.linear_model import LinearRegression\n",
    "\n",
    "# Configuración\n",
    "# -----------------------------------------------------------------------\n",
    "pd.set_option('display.max_columns', None) # para poder visualizar todas las columnas de los DataFrames\n",
    "\n",
    "# Gestión de los warnings\n",
    "# -----------------------------------------------------------------------\n",
    "import warnings\n",
    "warnings.filterwarnings(\"ignore\")"
   ]
  },
  {
   "cell_type": "code",
   "execution_count": 5,
   "metadata": {},
   "outputs": [],
   "source": [
    "from src import soporte as sp"
   ]
  },
  {
   "cell_type": "code",
   "execution_count": 6,
   "metadata": {},
   "outputs": [
    {
     "data": {
      "text/html": [
       "<div>\n",
       "<style scoped>\n",
       "    .dataframe tbody tr th:only-of-type {\n",
       "        vertical-align: middle;\n",
       "    }\n",
       "\n",
       "    .dataframe tbody tr th {\n",
       "        vertical-align: top;\n",
       "    }\n",
       "\n",
       "    .dataframe thead th {\n",
       "        text-align: right;\n",
       "    }\n",
       "</style>\n",
       "<table border=\"1\" class=\"dataframe\">\n",
       "  <thead>\n",
       "    <tr style=\"text-align: right;\">\n",
       "      <th></th>\n",
       "      <th>loyalty_number</th>\n",
       "      <th>country</th>\n",
       "      <th>province</th>\n",
       "      <th>city</th>\n",
       "      <th>postal_code</th>\n",
       "      <th>gender</th>\n",
       "      <th>education</th>\n",
       "      <th>salary</th>\n",
       "      <th>marital_status</th>\n",
       "      <th>loyalty_card</th>\n",
       "      <th>clv</th>\n",
       "      <th>enrollment_type</th>\n",
       "      <th>enrollment_year</th>\n",
       "      <th>enrollment_month</th>\n",
       "      <th>cancellation_year</th>\n",
       "      <th>cancellation_month</th>\n",
       "      <th>year</th>\n",
       "      <th>month</th>\n",
       "      <th>flights_booked</th>\n",
       "      <th>flights_with_companions</th>\n",
       "      <th>total_flights</th>\n",
       "      <th>distance</th>\n",
       "      <th>points_accumulated</th>\n",
       "      <th>points_redeemed</th>\n",
       "      <th>dollar_cost_points_redeemed</th>\n",
       "    </tr>\n",
       "  </thead>\n",
       "  <tbody>\n",
       "    <tr>\n",
       "      <th>0</th>\n",
       "      <td>480934</td>\n",
       "      <td>Canada</td>\n",
       "      <td>Ontario</td>\n",
       "      <td>Toronto</td>\n",
       "      <td>M2Z 4K1</td>\n",
       "      <td>Female</td>\n",
       "      <td>Bachelor</td>\n",
       "      <td>83236.0</td>\n",
       "      <td>Married</td>\n",
       "      <td>Star</td>\n",
       "      <td>3839.14</td>\n",
       "      <td>Standard</td>\n",
       "      <td>2016</td>\n",
       "      <td>2</td>\n",
       "      <td>0.0</td>\n",
       "      <td>0.0</td>\n",
       "      <td>2017</td>\n",
       "      <td>1</td>\n",
       "      <td>0</td>\n",
       "      <td>0</td>\n",
       "      <td>0</td>\n",
       "      <td>0</td>\n",
       "      <td>0.0</td>\n",
       "      <td>0</td>\n",
       "      <td>0</td>\n",
       "    </tr>\n",
       "    <tr>\n",
       "      <th>1</th>\n",
       "      <td>480934</td>\n",
       "      <td>Canada</td>\n",
       "      <td>Ontario</td>\n",
       "      <td>Toronto</td>\n",
       "      <td>M2Z 4K1</td>\n",
       "      <td>Female</td>\n",
       "      <td>Bachelor</td>\n",
       "      <td>83236.0</td>\n",
       "      <td>Married</td>\n",
       "      <td>Star</td>\n",
       "      <td>3839.14</td>\n",
       "      <td>Standard</td>\n",
       "      <td>2016</td>\n",
       "      <td>2</td>\n",
       "      <td>0.0</td>\n",
       "      <td>0.0</td>\n",
       "      <td>2017</td>\n",
       "      <td>2</td>\n",
       "      <td>3</td>\n",
       "      <td>0</td>\n",
       "      <td>3</td>\n",
       "      <td>2823</td>\n",
       "      <td>282.0</td>\n",
       "      <td>0</td>\n",
       "      <td>0</td>\n",
       "    </tr>\n",
       "    <tr>\n",
       "      <th>2</th>\n",
       "      <td>480934</td>\n",
       "      <td>Canada</td>\n",
       "      <td>Ontario</td>\n",
       "      <td>Toronto</td>\n",
       "      <td>M2Z 4K1</td>\n",
       "      <td>Female</td>\n",
       "      <td>Bachelor</td>\n",
       "      <td>83236.0</td>\n",
       "      <td>Married</td>\n",
       "      <td>Star</td>\n",
       "      <td>3839.14</td>\n",
       "      <td>Standard</td>\n",
       "      <td>2016</td>\n",
       "      <td>2</td>\n",
       "      <td>0.0</td>\n",
       "      <td>0.0</td>\n",
       "      <td>2017</td>\n",
       "      <td>3</td>\n",
       "      <td>0</td>\n",
       "      <td>0</td>\n",
       "      <td>0</td>\n",
       "      <td>0</td>\n",
       "      <td>0.0</td>\n",
       "      <td>0</td>\n",
       "      <td>0</td>\n",
       "    </tr>\n",
       "  </tbody>\n",
       "</table>\n",
       "</div>"
      ],
      "text/plain": [
       "   loyalty_number country province     city postal_code  gender education  \\\n",
       "0          480934  Canada  Ontario  Toronto     M2Z 4K1  Female  Bachelor   \n",
       "1          480934  Canada  Ontario  Toronto     M2Z 4K1  Female  Bachelor   \n",
       "2          480934  Canada  Ontario  Toronto     M2Z 4K1  Female  Bachelor   \n",
       "\n",
       "    salary marital_status loyalty_card      clv enrollment_type  \\\n",
       "0  83236.0        Married         Star  3839.14        Standard   \n",
       "1  83236.0        Married         Star  3839.14        Standard   \n",
       "2  83236.0        Married         Star  3839.14        Standard   \n",
       "\n",
       "   enrollment_year  enrollment_month  cancellation_year  cancellation_month  \\\n",
       "0             2016                 2                0.0                 0.0   \n",
       "1             2016                 2                0.0                 0.0   \n",
       "2             2016                 2                0.0                 0.0   \n",
       "\n",
       "   year  month  flights_booked  flights_with_companions  total_flights  \\\n",
       "0  2017      1               0                        0              0   \n",
       "1  2017      2               3                        0              3   \n",
       "2  2017      3               0                        0              0   \n",
       "\n",
       "   distance  points_accumulated  points_redeemed  dollar_cost_points_redeemed  \n",
       "0         0                 0.0                0                            0  \n",
       "1      2823               282.0                0                            0  \n",
       "2         0                 0.0                0                            0  "
      ]
     },
     "execution_count": 6,
     "metadata": {},
     "output_type": "execute_result"
    }
   ],
   "source": [
    "customer_final = pd.read_csv('/Users/rosana/Desktop/customer_final.csv')\n",
    "customer_final.head(3)"
   ]
  },
  {
   "cell_type": "markdown",
   "metadata": {},
   "source": [
    "# BONUS   \n",
    "\n",
    "## Fase 3: Evaluación de Diferencias en Reservas de Vuelos por Nivel Educativo\n",
    "\n",
    "Utilizando un conjunto de datos que hemos compartido, se busca evaluar si existen diferencias significativas en el número de vuelos reservados según el nivel educativo de los clientes."
   ]
  },
  {
   "cell_type": "markdown",
   "metadata": {},
   "source": [
    "#### 1. Preparación de Datos:\n",
    "\n",
    "Filtra el conjunto de datos para incluir únicamente las columnas relevantes: 'Flights Booked' y 'Education'."
   ]
  },
  {
   "cell_type": "code",
   "execution_count": 7,
   "metadata": {},
   "outputs": [
    {
     "data": {
      "text/html": [
       "<div>\n",
       "<style scoped>\n",
       "    .dataframe tbody tr th:only-of-type {\n",
       "        vertical-align: middle;\n",
       "    }\n",
       "\n",
       "    .dataframe tbody tr th {\n",
       "        vertical-align: top;\n",
       "    }\n",
       "\n",
       "    .dataframe thead th {\n",
       "        text-align: right;\n",
       "    }\n",
       "</style>\n",
       "<table border=\"1\" class=\"dataframe\">\n",
       "  <thead>\n",
       "    <tr style=\"text-align: right;\">\n",
       "      <th></th>\n",
       "      <th>flights_booked</th>\n",
       "      <th>education</th>\n",
       "    </tr>\n",
       "  </thead>\n",
       "  <tbody>\n",
       "    <tr>\n",
       "      <th>0</th>\n",
       "      <td>0</td>\n",
       "      <td>Bachelor</td>\n",
       "    </tr>\n",
       "    <tr>\n",
       "      <th>1</th>\n",
       "      <td>3</td>\n",
       "      <td>Bachelor</td>\n",
       "    </tr>\n",
       "    <tr>\n",
       "      <th>2</th>\n",
       "      <td>0</td>\n",
       "      <td>Bachelor</td>\n",
       "    </tr>\n",
       "    <tr>\n",
       "      <th>3</th>\n",
       "      <td>0</td>\n",
       "      <td>Bachelor</td>\n",
       "    </tr>\n",
       "    <tr>\n",
       "      <th>4</th>\n",
       "      <td>6</td>\n",
       "      <td>Bachelor</td>\n",
       "    </tr>\n",
       "    <tr>\n",
       "      <th>...</th>\n",
       "      <td>...</td>\n",
       "      <td>...</td>\n",
       "    </tr>\n",
       "    <tr>\n",
       "      <th>403755</th>\n",
       "      <td>0</td>\n",
       "      <td>Bachelor</td>\n",
       "    </tr>\n",
       "    <tr>\n",
       "      <th>403756</th>\n",
       "      <td>0</td>\n",
       "      <td>Bachelor</td>\n",
       "    </tr>\n",
       "    <tr>\n",
       "      <th>403757</th>\n",
       "      <td>0</td>\n",
       "      <td>Bachelor</td>\n",
       "    </tr>\n",
       "    <tr>\n",
       "      <th>403758</th>\n",
       "      <td>0</td>\n",
       "      <td>Bachelor</td>\n",
       "    </tr>\n",
       "    <tr>\n",
       "      <th>403759</th>\n",
       "      <td>0</td>\n",
       "      <td>Bachelor</td>\n",
       "    </tr>\n",
       "  </tbody>\n",
       "</table>\n",
       "<p>403760 rows × 2 columns</p>\n",
       "</div>"
      ],
      "text/plain": [
       "        flights_booked education\n",
       "0                    0  Bachelor\n",
       "1                    3  Bachelor\n",
       "2                    0  Bachelor\n",
       "3                    0  Bachelor\n",
       "4                    6  Bachelor\n",
       "...                ...       ...\n",
       "403755               0  Bachelor\n",
       "403756               0  Bachelor\n",
       "403757               0  Bachelor\n",
       "403758               0  Bachelor\n",
       "403759               0  Bachelor\n",
       "\n",
       "[403760 rows x 2 columns]"
      ]
     },
     "execution_count": 7,
     "metadata": {},
     "output_type": "execute_result"
    }
   ],
   "source": [
    "bonus = customer_final[['flights_booked','education']]\n",
    "\n",
    "bonus"
   ]
  },
  {
   "cell_type": "markdown",
   "metadata": {},
   "source": [
    "#### 2. Análisis Descriptivo:\n",
    "\n",
    "Agrupa los datos por nivel educativo y calcula estadísticas descriptivas básicas (como el promedio, la desviación estandar) del número de vuelos reservados para cada grupo."
   ]
  },
  {
   "cell_type": "code",
   "execution_count": 8,
   "metadata": {},
   "outputs": [
    {
     "data": {
      "text/html": [
       "<div>\n",
       "<style scoped>\n",
       "    .dataframe tbody tr th:only-of-type {\n",
       "        vertical-align: middle;\n",
       "    }\n",
       "\n",
       "    .dataframe tbody tr th {\n",
       "        vertical-align: top;\n",
       "    }\n",
       "\n",
       "    .dataframe thead tr th {\n",
       "        text-align: left;\n",
       "    }\n",
       "</style>\n",
       "<table border=\"1\" class=\"dataframe\">\n",
       "  <thead>\n",
       "    <tr>\n",
       "      <th></th>\n",
       "      <th>education</th>\n",
       "      <th colspan=\"4\" halign=\"left\">flights_booked</th>\n",
       "    </tr>\n",
       "    <tr>\n",
       "      <th></th>\n",
       "      <th></th>\n",
       "      <th>mean</th>\n",
       "      <th>median</th>\n",
       "      <th>std</th>\n",
       "      <th>var</th>\n",
       "    </tr>\n",
       "  </thead>\n",
       "  <tbody>\n",
       "    <tr>\n",
       "      <th>0</th>\n",
       "      <td>Bachelor</td>\n",
       "      <td>4.110288</td>\n",
       "      <td>1.0</td>\n",
       "      <td>5.221671</td>\n",
       "      <td>27.265843</td>\n",
       "    </tr>\n",
       "    <tr>\n",
       "      <th>1</th>\n",
       "      <td>College</td>\n",
       "      <td>4.169744</td>\n",
       "      <td>1.0</td>\n",
       "      <td>5.246040</td>\n",
       "      <td>27.520938</td>\n",
       "    </tr>\n",
       "    <tr>\n",
       "      <th>2</th>\n",
       "      <td>Doctor</td>\n",
       "      <td>4.175512</td>\n",
       "      <td>1.0</td>\n",
       "      <td>5.256971</td>\n",
       "      <td>27.635748</td>\n",
       "    </tr>\n",
       "    <tr>\n",
       "      <th>3</th>\n",
       "      <td>High School or Below</td>\n",
       "      <td>4.176209</td>\n",
       "      <td>1.0</td>\n",
       "      <td>5.239267</td>\n",
       "      <td>27.449915</td>\n",
       "    </tr>\n",
       "    <tr>\n",
       "      <th>4</th>\n",
       "      <td>Master</td>\n",
       "      <td>4.200700</td>\n",
       "      <td>1.0</td>\n",
       "      <td>5.213956</td>\n",
       "      <td>27.185339</td>\n",
       "    </tr>\n",
       "  </tbody>\n",
       "</table>\n",
       "</div>"
      ],
      "text/plain": [
       "              education flights_booked                            \n",
       "                                  mean median       std        var\n",
       "0              Bachelor       4.110288    1.0  5.221671  27.265843\n",
       "1               College       4.169744    1.0  5.246040  27.520938\n",
       "2                Doctor       4.175512    1.0  5.256971  27.635748\n",
       "3  High School or Below       4.176209    1.0  5.239267  27.449915\n",
       "4                Master       4.200700    1.0  5.213956  27.185339"
      ]
     },
     "execution_count": 8,
     "metadata": {},
     "output_type": "execute_result"
    }
   ],
   "source": [
    "# Agrupar por educación y calcular varias estadísticas\n",
    "\n",
    "education_levels = bonus.groupby('education').agg(['mean', 'median', 'std', 'var']).reset_index()\n",
    "\n",
    "education_levels"
   ]
  },
  {
   "cell_type": "markdown",
   "metadata": {},
   "source": [
    "Observaciones:\n",
    "\n",
    "- Los promedios de vuelos reservados son bastante similares entre todos los niveles educativos (alrededor de 4 vuelos).\n",
    "\n",
    "- La desviación estándar también es bastante similar entre los grupos, lo que indica que la variabilidad en el número de vuelos reservados es bastante constante entre los diferentes niveles educativos.\n",
    "\n",
    "- Los mínimos son 0, lo que indica que algunos clientes no reservaron ningún vuelo.\n",
    "\n",
    "- Los máximos (21) indican que, para cada grupo educativo, el número máximo de vuelos reservados por un cliente es 21."
   ]
  },
  {
   "cell_type": "markdown",
   "metadata": {},
   "source": [
    "#### 5. **Prueba Estadística:** Realiza una prueba de hipótesis para determinar si existe unas diferencia significativa en el número de vuelos reservados entre los diferentes niveles educativos."
   ]
  },
  {
   "cell_type": "markdown",
   "metadata": {},
   "source": [
    "##### Objetivo del A/B Testing:\n",
    "\n",
    "Determinar si existe una diferencia significativa en el número de vuelos reservados (flights_booked) entre los dos grupos de educación que vamos a crear: `low_education` y `high_education`. Para ello creamos la columna `education_group` con los dos grupos categorizados utilizando el método `np.select()` de numpy, que permite asignar valores según condiciones, para hacerlo de manera sencilla.\n",
    "\n",
    "\n",
    "Nos plantearemos las siguientes hipótesis:\n",
    "\n",
    "- **Hipótesis nula (H₀):** No hay diferencia significativa en el número de vuelos reservados entre los dos grupos que hemos creado.\n",
    "\n",
    "- **Hipótesis alternativa (H₁):** Existe una diferencia significativa en el número de vuelos reservados entre los dos grupos.\n",
    "\n"
   ]
  },
  {
   "cell_type": "code",
   "execution_count": 9,
   "metadata": {},
   "outputs": [
    {
     "data": {
      "text/html": [
       "<div>\n",
       "<style scoped>\n",
       "    .dataframe tbody tr th:only-of-type {\n",
       "        vertical-align: middle;\n",
       "    }\n",
       "\n",
       "    .dataframe tbody tr th {\n",
       "        vertical-align: top;\n",
       "    }\n",
       "\n",
       "    .dataframe thead th {\n",
       "        text-align: right;\n",
       "    }\n",
       "</style>\n",
       "<table border=\"1\" class=\"dataframe\">\n",
       "  <thead>\n",
       "    <tr style=\"text-align: right;\">\n",
       "      <th></th>\n",
       "      <th>flights_booked</th>\n",
       "      <th>education_group</th>\n",
       "    </tr>\n",
       "  </thead>\n",
       "  <tbody>\n",
       "    <tr>\n",
       "      <th>0</th>\n",
       "      <td>0</td>\n",
       "      <td>non_university</td>\n",
       "    </tr>\n",
       "    <tr>\n",
       "      <th>1</th>\n",
       "      <td>3</td>\n",
       "      <td>non_university</td>\n",
       "    </tr>\n",
       "    <tr>\n",
       "      <th>2</th>\n",
       "      <td>0</td>\n",
       "      <td>non_university</td>\n",
       "    </tr>\n",
       "    <tr>\n",
       "      <th>3</th>\n",
       "      <td>0</td>\n",
       "      <td>non_university</td>\n",
       "    </tr>\n",
       "    <tr>\n",
       "      <th>4</th>\n",
       "      <td>6</td>\n",
       "      <td>non_university</td>\n",
       "    </tr>\n",
       "    <tr>\n",
       "      <th>...</th>\n",
       "      <td>...</td>\n",
       "      <td>...</td>\n",
       "    </tr>\n",
       "    <tr>\n",
       "      <th>403755</th>\n",
       "      <td>0</td>\n",
       "      <td>non_university</td>\n",
       "    </tr>\n",
       "    <tr>\n",
       "      <th>403756</th>\n",
       "      <td>0</td>\n",
       "      <td>non_university</td>\n",
       "    </tr>\n",
       "    <tr>\n",
       "      <th>403757</th>\n",
       "      <td>0</td>\n",
       "      <td>non_university</td>\n",
       "    </tr>\n",
       "    <tr>\n",
       "      <th>403758</th>\n",
       "      <td>0</td>\n",
       "      <td>non_university</td>\n",
       "    </tr>\n",
       "    <tr>\n",
       "      <th>403759</th>\n",
       "      <td>0</td>\n",
       "      <td>non_university</td>\n",
       "    </tr>\n",
       "  </tbody>\n",
       "</table>\n",
       "<p>403760 rows × 2 columns</p>\n",
       "</div>"
      ],
      "text/plain": [
       "        flights_booked education_group\n",
       "0                    0  non_university\n",
       "1                    3  non_university\n",
       "2                    0  non_university\n",
       "3                    0  non_university\n",
       "4                    6  non_university\n",
       "...                ...             ...\n",
       "403755               0  non_university\n",
       "403756               0  non_university\n",
       "403757               0  non_university\n",
       "403758               0  non_university\n",
       "403759               0  non_university\n",
       "\n",
       "[403760 rows x 2 columns]"
      ]
     },
     "execution_count": 9,
     "metadata": {},
     "output_type": "execute_result"
    }
   ],
   "source": [
    "\n",
    "# Crear condiciones para los grupos\n",
    "# np.select(): Aplica las condiciones al DataFrame y crea la nueva columna 'education_group' con los valores definidos.\n",
    "\n",
    "conditions = [\n",
    "    (bonus['education'].isin(['College', 'Master', 'Doctor'])),  # Universitarios\n",
    "    (bonus['education'].isin(['Bachelor','High School or Below']))  # No Universitarios\n",
    "]\n",
    "\n",
    "# Asignar valores según las condiciones\n",
    "choices = ['university', 'non_university']\n",
    "\n",
    "# Crear la nueva columna 'education_group'\n",
    "bonus['education_group'] = np.select(conditions, choices, default='Unknown')\n",
    "\n",
    "# Verificar el resultado\n",
    "bonus[['flights_booked', 'education_group']]\n"
   ]
  },
  {
   "cell_type": "code",
   "execution_count": 11,
   "metadata": {},
   "outputs": [
    {
     "name": "stdout",
     "output_type": "stream",
     "text": [
      "Grupo de univesitarios:\n",
      "Para la columna flights_booked los datos no siguen una distribución normal.\n"
     ]
    }
   ],
   "source": [
    "print(\"Grupo de univesitarios:\")\n",
    "sp.normalidad(bonus[bonus['education_group'] == 'non_university'], 'flights_booked')"
   ]
  },
  {
   "cell_type": "code",
   "execution_count": null,
   "metadata": {},
   "outputs": [
    {
     "name": "stdout",
     "output_type": "stream",
     "text": [
      "Grupo de no univesitarios:\n",
      "Para la columna flights_booked los datos no siguen una distribución normal.\n"
     ]
    }
   ],
   "source": [
    "print(\"Grupo de no univesitarios:\")\n",
    "sp.normalidad(bonus[bonus['education_group'] != 'non_university'], 'flights_booked')"
   ]
  },
  {
   "cell_type": "code",
   "execution_count": 13,
   "metadata": {},
   "outputs": [
    {
     "data": {
      "image/png": "[encoded data removed]",
      "text/plain": [
       "<Figure size 200x400 with 1 Axes>"
      ]
     },
     "metadata": {},
     "output_type": "display_data"
    }
   ],
   "source": [
    "\n",
    "# Con un histograma podemos comprobar que el resultado del test anterior es correcto: los datos no siguen una distribución normal.\n",
    "\n",
    "plt.figure(figsize=(2, 4))\n",
    "\n",
    "sns.histplot(x='flights_booked', data=bonus[bonus['education_group'] == 'non_university'], palette='viridis')\n",
    "\n",
    "plt.title('Distribution of Flights Booked by Non University Group')\n",
    "plt.xlabel('Flights Booked')\n",
    "plt.ylabel('Number of people')\n",
    "plt.show()\n"
   ]
  },
  {
   "cell_type": "code",
   "execution_count": 14,
   "metadata": {},
   "outputs": [
    {
     "data": {
      "image/png": "[encoded data removed]",
      "text/plain": [
       "<Figure size 200x400 with 1 Axes>"
      ]
     },
     "metadata": {},
     "output_type": "display_data"
    }
   ],
   "source": [
    "\n",
    "# Con un histograma podemos comprobar que el resultado del test anterior es correcto: los datos no siguen una distribución normal.\n",
    "\n",
    "plt.figure(figsize=(2, 4))\n",
    "\n",
    "sns.histplot(x='flights_booked', data=bonus[bonus['education_group'] != 'non_university'], palette='viridis')\n",
    "\n",
    "plt.title('Distribution of Flights Booked by University Group')\n",
    "plt.xlabel('Flights Booked')\n",
    "plt.ylabel('Number of people')\n",
    "plt.show()\n"
   ]
  },
  {
   "cell_type": "markdown",
   "metadata": {},
   "source": [
    "Nuestros datos no cumplen el supuesto de normalidad, por lo que tendremos que optar por una prueba estadística no paramétrica: el **Test de Mann Whitney**.  \n",
    "\n",
    "Este test es una prueba utilizada para comparar dos muestras independientes y determinar si provienen de poblaciones con medianas iguales o diferentes. Es apropiada cuando los datos no siguen una distribución normal y se utiliza para evaluar si hay diferencias significativas entre dos grupos. \n",
    "\n",
    "Esta prueba nos devuelve el valor p (p-value), que indica cuán significativas son las diferencias entre las muestras: un valor p pequeño sugiere que las medianas son significativamente diferentes.\n",
    "\n",
    "Para interpretar los resultados:\n",
    "\n",
    "- Si p-value < 0.05, sugiere que hay diferencias significativas entre las medianas de las muestras.\n",
    "\n",
    "- Si p-value > 0.05, sugiere que no hay evidencia suficiente para concluir que las medianas son diferentes."
   ]
  },
  {
   "cell_type": "code",
   "execution_count": 16,
   "metadata": {},
   "outputs": [
    {
     "name": "stdout",
     "output_type": "stream",
     "text": [
      "El p_value de la prueba de Mann-Whitney es: 0.0006123713984014342\n"
     ]
    }
   ],
   "source": [
    "\n",
    "# Filtrar los grupos por nivel educativo\n",
    "\n",
    "non_uni = bonus[bonus['education_group'] == 'non_university']['flights_booked']\n",
    "uni = bonus[bonus['education_group'] != 'non_university']['flights_booked']\n",
    "\n",
    "# Realizar la prueba de Mann-Whitney \n",
    "_, p_value = mannwhitneyu(non_uni, uni)\n",
    "\n",
    "# Imprimir el valor p\n",
    "print(f'El p_value de la prueba de Mann-Whitney es: {p_value}')\n"
   ]
  },
  {
   "cell_type": "code",
   "execution_count": 17,
   "metadata": {},
   "outputs": [
    {
     "data": {
      "text/plain": [
       "np.True_"
      ]
     },
     "execution_count": 17,
     "metadata": {},
     "output_type": "execute_result"
    }
   ],
   "source": [
    "p_value < 0.05"
   ]
  },
  {
   "cell_type": "markdown",
   "metadata": {},
   "source": [
    "El resultado de nuestra prueba nos devuelve un p_value menor que 0,05; por lo tanto podemos concluir que, aunque se comporten de manera parecida, existe diferencia significativa entre los dos grupos."
   ]
  }
 ],
 "metadata": {
  "kernelspec": {
   "display_name": "rosana_conda",
   "language": "python",
   "name": "python3"
  },
  "language_info": {
   "codemirror_mode": {
    "name": "ipython",
    "version": 3
   },
   "file_extension": ".py",
   "mimetype": "text/x-python",
   "name": "python",
   "nbconvert_exporter": "python",
   "pygments_lexer": "ipython3",
   "version": "3.12.6"
  }
 },
 "nbformat": 4,
 "nbformat_minor": 2
}
